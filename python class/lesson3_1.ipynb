{
 "cells": [
  {
   "cell_type": "code",
   "execution_count": 2,
   "metadata": {},
   "outputs": [
    {
     "data": {
      "text/plain": [
       "0.5"
      ]
     },
     "execution_count": 2,
     "metadata": {},
     "output_type": "execute_result"
    }
   ],
   "source": [
    "#請使用者輸入直角三角形的對邊\n",
    "#請使用者輸入直角三角形的斜邊\n",
    "#計算角度\n",
    "#sin() = 對邊/斜邊\n",
    "\n",
    "side = float(input('請輸入對邊：'))\n",
    "another_side = float(input('請輸入斜邊：'))\n",
    "side / another_side"
   ]
  },
  {
   "cell_type": "code",
   "execution_count": 1,
   "metadata": {},
   "outputs": [
    {
     "name": "stdout",
     "output_type": "stream",
     "text": [
      "對邊：2.5, 斜邊：5.0\n",
      "弳度是：0.524\n"
     ]
    }
   ],
   "source": [
    "#x = asin(對邊/斜邊)\n",
    "#python 有內建的函式\n",
    "import math\n",
    "side = float(input('請輸入對邊：'))\n",
    "another_side = float(input('請輸入斜邊：'))\n",
    "radian = math.asin(side/ another_side)\n",
    "print(f'對邊：{side}, 斜邊：{another_side}')\n",
    "print(f'弳度是：{radian:.3f}')"
   ]
  },
  {
   "cell_type": "code",
   "execution_count": 4,
   "metadata": {},
   "outputs": [
    {
     "name": "stdout",
     "output_type": "stream",
     "text": [
      "對邊：2.5, 斜邊：5.0\n",
      "弳度是：0.524,角度是：30\n"
     ]
    }
   ],
   "source": [
    "#弳度轉角度 = math.degree\n",
    "import math\n",
    "side = float(input('請輸入對邊：'))\n",
    "another_side = float(input('請輸入斜邊：'))\n",
    "radian = math.asin(side/ another_side)\n",
    "degree = math.degrees(radian)\n",
    "print(f'對邊：{side}, 斜邊：{another_side}')\n",
    "print(f'弳度是：{radian:.3f},角度是：{round(degree)}')"
   ]
  },
  {
   "cell_type": "code",
   "execution_count": null,
   "metadata": {},
   "outputs": [],
   "source": [
    "#大學數學（微積分）\n",
    "#終端機：pip install sympy\n",
    "import sympy\n",
    "#終端機：pip list\n",
    "\n"
   ]
  }
 ],
 "metadata": {
  "kernelspec": {
   "display_name": "Python 3",
   "language": "python",
   "name": "python3"
  },
  "language_info": {
   "codemirror_mode": {
    "name": "ipython",
    "version": 3
   },
   "file_extension": ".py",
   "mimetype": "text/x-python",
   "name": "python",
   "nbconvert_exporter": "python",
   "pygments_lexer": "ipython3",
   "version": "3.10.13"
  },
  "orig_nbformat": 4
 },
 "nbformat": 4,
 "nbformat_minor": 2
}
