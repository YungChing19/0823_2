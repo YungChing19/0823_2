{
 "cells": [
  {
   "cell_type": "code",
   "execution_count": 2,
   "metadata": {},
   "outputs": [
    {
     "name": "stdout",
     "output_type": "stream",
     "text": [
      "酒：白酒\n",
      "主餐：牛排\n",
      "甜點：蛋糕\n"
     ]
    }
   ],
   "source": [
    "def menu(wine, entree, dessert):\n",
    "    print(f\"酒：{wine}\")\n",
    "    print(f\"主餐：{entree}\")\n",
    "    print(f\"甜點：{dessert}\")\n",
    "#引數值呼叫，必須依照參數的順序\n",
    "menu(\"白酒\",\"牛排\",\"蛋糕\")"
   ]
  },
  {
   "cell_type": "code",
   "execution_count": 3,
   "metadata": {},
   "outputs": [
    {
     "name": "stdout",
     "output_type": "stream",
     "text": [
      "酒：白酒\n",
      "主餐：牛排\n",
      "甜點：蛋糕\n"
     ]
    }
   ],
   "source": [
    "#引數名稱呼叫\n",
    "menu(wine=\"白酒\",entree=\"牛排\",dessert=\"蛋糕\")"
   ]
  },
  {
   "cell_type": "code",
   "execution_count": 4,
   "metadata": {},
   "outputs": [
    {
     "name": "stdout",
     "output_type": "stream",
     "text": [
      "酒：白酒\n",
      "主餐：牛排\n",
      "甜點：蛋糕\n"
     ]
    }
   ],
   "source": [
    "#引數名稱呼叫，可以不依順序\n",
    "menu(wine=\"白酒\",dessert=\"蛋糕\",entree=\"牛排\")"
   ]
  },
  {
   "cell_type": "code",
   "execution_count": 5,
   "metadata": {},
   "outputs": [
    {
     "name": "stdout",
     "output_type": "stream",
     "text": [
      "酒：白酒\n",
      "主餐：牛排\n",
      "甜點：蛋糕\n"
     ]
    }
   ],
   "source": [
    "#混合呼叫\n",
    "#前面一定要用引數值的呼叫\n",
    "#後面使用引數名稱的呼叫\n",
    "#使用引數名稱後，後面全部要使用引數名稱呼叫\n",
    "\n",
    "menu(\"白酒\",dessert=\"蛋糕\",entree=\"牛排\")\n"
   ]
  },
  {
   "cell_type": "code",
   "execution_count": 8,
   "metadata": {},
   "outputs": [
    {
     "name": "stdout",
     "output_type": "stream",
     "text": [
      "酒：白酒\n",
      "主餐：雞排\n",
      "甜點：奶昔\n"
     ]
    }
   ],
   "source": [
    "#定義function時，參數有預設值\n",
    "#有預設值的參數必須要放後面\n",
    "#有預設值的參數，可以減少引數的數量\n",
    "#\n",
    "def menu(wine, entree=\"雞排\", dessert=\"奶昔\"):\n",
    "    print(f\"酒：{wine}\")\n",
    "    print(f\"主餐：{entree}\")\n",
    "    print(f\"甜點：{dessert}\")\n",
    "    \n",
    "#最少需要一個引數\n",
    "menu(\"白酒\")\n"
   ]
  },
  {
   "cell_type": "code",
   "execution_count": 13,
   "metadata": {},
   "outputs": [
    {
     "name": "stdout",
     "output_type": "stream",
     "text": [
      "酒：白酒\n",
      "主餐：牛排\n",
      "甜點：奶昔\n",
      "\n",
      "酒：白酒\n",
      "主餐：雞排\n",
      "甜點：蛋糕\n"
     ]
    }
   ],
   "source": [
    "#\n",
    "#\n",
    "menu(\"白酒\",entree=\"牛排\")\n",
    "print(\"\")\n",
    "menu(\"白酒\",dessert=\"蛋糕\")"
   ]
  },
  {
   "cell_type": "code",
   "execution_count": 14,
   "metadata": {},
   "outputs": [],
   "source": [
    "#(*args),呼叫時,使用引數值的呼叫,沒有限定數量\n",
    "def print_args(*args):\n",
    "    print(args)"
   ]
  },
  {
   "cell_type": "code",
   "execution_count": 15,
   "metadata": {},
   "outputs": [
    {
     "name": "stdout",
     "output_type": "stream",
     "text": [
      "(1, 2, 'a', 'b', 3.0, 4.0, True, False)\n"
     ]
    }
   ],
   "source": [
    "print_args(1,2,'a','b',3.0,4.0,True,False)"
   ]
  },
  {
   "cell_type": "code",
   "execution_count": 16,
   "metadata": {},
   "outputs": [
    {
     "name": "stdout",
     "output_type": "stream",
     "text": [
      "{'taipei': '台北', 'japan': '日本'}\n"
     ]
    }
   ],
   "source": [
    "#(**kwargs),呼叫時,使用引數名稱的呼叫,沒有限定數量\n",
    "def print_kwargs(**kwargs):\n",
    "    print(kwargs)\n",
    "\n",
    "#dictionary\n",
    "print_kwargs(taipei='台北',japan='日本')"
   ]
  },
  {
   "cell_type": "code",
   "execution_count": 17,
   "metadata": {},
   "outputs": [
    {
     "name": "stdout",
     "output_type": "stream",
     "text": [
      "Hello World!\n",
      "\n",
      "Hello python!\n"
     ]
    }
   ],
   "source": [
    "print(\"Hello World!\")\n",
    "print() #\\n ->換行符號\n",
    "print(\"Hello python!\")"
   ]
  },
  {
   "cell_type": "markdown",
   "metadata": {},
   "source": []
  },
  {
   "cell_type": "code",
   "execution_count": 18,
   "metadata": {},
   "outputs": [
    {
     "name": "stdout",
     "output_type": "stream",
     "text": [
      "1 2 3 9 Hello\n"
     ]
    }
   ],
   "source": [
    "print(\"1\",2,3,9,\"Hello\")\n",
    "#預設空一格"
   ]
  },
  {
   "cell_type": "code",
   "execution_count": 23,
   "metadata": {},
   "outputs": [
    {
     "name": "stdout",
     "output_type": "stream",
     "text": [
      "1-2-3-9-Hello\n"
     ]
    }
   ],
   "source": [
    "print(\"1\",2,3,9,\"Hello\",sep='-')\n",
    "#預設空一格，改成中間有一個“-”"
   ]
  }
 ],
 "metadata": {
  "kernelspec": {
   "display_name": "Python 3",
   "language": "python",
   "name": "python3"
  },
  "language_info": {
   "codemirror_mode": {
    "name": "ipython",
    "version": 3
   },
   "file_extension": ".py",
   "mimetype": "text/x-python",
   "name": "python",
   "nbconvert_exporter": "python",
   "pygments_lexer": "ipython3",
   "version": "3.10.13"
  },
  "orig_nbformat": 4
 },
 "nbformat": 4,
 "nbformat_minor": 2
}
