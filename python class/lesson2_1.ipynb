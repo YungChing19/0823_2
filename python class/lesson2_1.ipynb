{
 "cells": [
  {
   "cell_type": "code",
   "execution_count": 1,
   "metadata": {},
   "outputs": [
    {
     "name": "stdout",
     "output_type": "stream",
     "text": [
      "Hello World!\n"
     ]
    }
   ],
   "source": [
    "print(\"Hello World!\")"
   ]
  },
  {
   "cell_type": "code",
   "execution_count": 2,
   "metadata": {},
   "outputs": [
    {
     "name": "stdout",
     "output_type": "stream",
     "text": [
      "面積是： 50.0\n"
     ]
    }
   ],
   "source": [
    "# 讓使用這輸入梯形的上底跟、下底跟高，程式會計算梯形的面積（上底加下底乘以高除以二）\n",
    "top = int(input(\"請輸入上底：\"))\n",
    "bottom = int(input(\"請輸入下底：\"))\n",
    "height = int(input(\"請輸入高：\"))\n",
    "area = (top + bottom) * height / 2\n",
    "\n",
    "print(\"面積是：\",area)"
   ]
  },
  {
   "cell_type": "code",
   "execution_count": 3,
   "metadata": {},
   "outputs": [
    {
     "name": "stdout",
     "output_type": "stream",
     "text": [
      "梯形面積：上底 23 下底 2 高 4 \n",
      "面積是50.0\n"
     ]
    }
   ],
   "source": [
    "#字串差捕 (f\"\")\n",
    "print(f\"梯形面積：上底 {top} 下底 {bottom} 高 {height} \")\n",
    "print(f\"面積是{area}\")"
   ]
  }
 ],
 "metadata": {
  "kernelspec": {
   "display_name": "Python 3",
   "language": "python",
   "name": "python3"
  },
  "language_info": {
   "codemirror_mode": {
    "name": "ipython",
    "version": 3
   },
   "file_extension": ".py",
   "mimetype": "text/x-python",
   "name": "python",
   "nbconvert_exporter": "python",
   "pygments_lexer": "ipython3",
   "version": "3.10.13"
  },
  "orig_nbformat": 4
 },
 "nbformat": 4,
 "nbformat_minor": 2
}
