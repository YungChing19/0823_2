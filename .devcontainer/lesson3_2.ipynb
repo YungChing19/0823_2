{
 "cells": [
  {
   "cell_type": "code",
   "execution_count": 1,
   "metadata": {},
   "outputs": [
    {
     "data": {
      "text/plain": [
       "5"
      ]
     },
     "execution_count": 1,
     "metadata": {},
     "output_type": "execute_result"
    }
   ],
   "source": [
    "n1 = 5\n",
    "n1 + 5\n",
    "n1"
   ]
  },
  {
   "cell_type": "code",
   "execution_count": 1,
   "metadata": {},
   "outputs": [
    {
     "data": {
      "text/plain": [
       "10"
      ]
     },
     "execution_count": 1,
     "metadata": {},
     "output_type": "execute_result"
    }
   ],
   "source": [
    "n2 = 5\n",
    "n2 = n2 + 5\n",
    "n2"
   ]
  },
  {
   "cell_type": "code",
   "execution_count": 6,
   "metadata": {},
   "outputs": [
    {
     "data": {
      "text/plain": [
       "10"
      ]
     },
     "execution_count": 6,
     "metadata": {},
     "output_type": "execute_result"
    }
   ],
   "source": [
    "n3 = 5\n",
    "#n3 一定要先有值\n",
    "n3 += 5\n",
    "n3"
   ]
  },
  {
   "cell_type": "code",
   "execution_count": 7,
   "metadata": {},
   "outputs": [
    {
     "data": {
      "text/plain": [
       "100"
      ]
     },
     "execution_count": 7,
     "metadata": {},
     "output_type": "execute_result"
    }
   ],
   "source": [
    "n3 *= 10\n",
    "n3"
   ]
  },
  {
   "cell_type": "code",
   "execution_count": 8,
   "metadata": {},
   "outputs": [
    {
     "data": {
      "text/plain": [
       "50.0"
      ]
     },
     "execution_count": 8,
     "metadata": {},
     "output_type": "execute_result"
    }
   ],
   "source": [
    "#複合指令運算子\n",
    "n3 /= 2\n",
    "n3"
   ]
  },
  {
   "cell_type": "code",
   "execution_count": 10,
   "metadata": {},
   "outputs": [
    {
     "data": {
      "text/plain": [
       "'Snape'"
      ]
     },
     "metadata": {},
     "output_type": "display_data"
    }
   ],
   "source": [
    "#會出現單引號，會顯示格式\n",
    "display('Snape')"
   ]
  },
  {
   "cell_type": "code",
   "execution_count": 11,
   "metadata": {},
   "outputs": [
    {
     "name": "stdout",
     "output_type": "stream",
     "text": [
      "Snape\n"
     ]
    }
   ],
   "source": [
    "#不會出現單引號\n",
    "print('Snape')"
   ]
  },
  {
   "cell_type": "code",
   "execution_count": 12,
   "metadata": {},
   "outputs": [
    {
     "name": "stdout",
     "output_type": "stream",
     "text": [
      "Joy, 'said hello.'\n"
     ]
    }
   ],
   "source": [
    "print(\"Joy, 'said hello.'\")"
   ]
  },
  {
   "cell_type": "code",
   "execution_count": 13,
   "metadata": {},
   "outputs": [
    {
     "name": "stdout",
     "output_type": "stream",
     "text": [
      "Joy, \"said hello.\"\n"
     ]
    }
   ],
   "source": [
    "print('Joy, \"said hello.\"')"
   ]
  },
  {
   "cell_type": "code",
   "execution_count": 14,
   "metadata": {},
   "outputs": [
    {
     "name": "stdout",
     "output_type": "stream",
     "text": [
      "Joy, \"said hello.\n"
     ]
    }
   ],
   "source": [
    "#特殊字元 “\\”\n",
    "print(\"Joy, \\\"said hello.\")"
   ]
  },
  {
   "cell_type": "code",
   "execution_count": 17,
   "metadata": {},
   "outputs": [
    {
     "name": "stdout",
     "output_type": "stream",
     "text": [
      "您好：\n",
      " 尊貴的客人\t早安\n"
     ]
    }
   ],
   "source": [
    "# \"\\n\" : 換行\n",
    "# “\\t”：空格\n",
    "print(\"您好：\\n 尊貴的客人\\t早安\")"
   ]
  },
  {
   "cell_type": "code",
   "execution_count": 32,
   "metadata": {},
   "outputs": [
    {
     "data": {
      "text/plain": [
       "\"In the quiet of the twilight's grace, Where the stars begin to find their place, A world of dreams unfolds its wings,And in this realm, my spirit sings.\""
      ]
     },
     "execution_count": 32,
     "metadata": {},
     "output_type": "execute_result"
    }
   ],
   "source": [
    "# \"\\\": 連結下一行文字，會依樣是單行的文字。\n",
    "poem = \"In the quiet of the twilight's grace, \\\n",
    "Where the stars begin to find their place, \\\n",
    "A world of dreams unfolds its wings,\\\n",
    "And in this realm, my spirit sings.\"\n",
    "poem"
   ]
  },
  {
   "cell_type": "code",
   "execution_count": 31,
   "metadata": {},
   "outputs": [
    {
     "name": "stdout",
     "output_type": "stream",
     "text": [
      "In the quiet of the twilight's grace, \n",
      "\n",
      "Where the stars begin to find their place, \n",
      "\n",
      "A world of dreams unfolds its wings,\n",
      "\n",
      "And in this realm, my spirit sings.\n"
     ]
    }
   ],
   "source": [
    "#多行文字\n",
    "#換兩行\n",
    "poem1 = \"In the quiet of the twilight's grace, \\n\\nWhere the stars begin to find their place, \\n\\nA world of dreams unfolds its wings,\\n\\nAnd in this realm, my spirit sings.\"\n",
    "print(poem1)"
   ]
  },
  {
   "cell_type": "code",
   "execution_count": 37,
   "metadata": {},
   "outputs": [
    {
     "name": "stdout",
     "output_type": "stream",
     "text": [
      "In the quiet of the twilight's grace, \n",
      "\n",
      "Where the stars begin to find their place, \n",
      "\n",
      "A world of dreams unfolds its wings, \n",
      "\n",
      "And in this realm, my spirit sings.\n"
     ]
    }
   ],
   "source": [
    "##多行文字 \"\"\"\n",
    "poem2 = \"\"\"In the quiet of the twilight's grace, \n",
    "\n",
    "Where the stars begin to find their place, \n",
    "\n",
    "A world of dreams unfolds its wings, \n",
    "\n",
    "And in this realm, my spirit sings.\"\"\"\n",
    "\n",
    "print(poem2)"
   ]
  },
  {
   "cell_type": "code",
   "execution_count": 39,
   "metadata": {},
   "outputs": [
    {
     "name": "stdout",
     "output_type": "stream",
     "text": [
      "我是第一行\n",
      "我是第二行\n",
      "我是第三行\n",
      "\n"
     ]
    }
   ],
   "source": [
    "#字串可以相加的\n",
    "sentence = \"\"\n",
    "sentence += \"我是第一行\\n\"\n",
    "sentence += \"我是第二行\\n\"\n",
    "sentence += \"我是第三行\\n\"\n",
    "print(sentence)"
   ]
  },
  {
   "cell_type": "code",
   "execution_count": 42,
   "metadata": {},
   "outputs": [
    {
     "data": {
      "text/plain": [
       "True"
      ]
     },
     "metadata": {},
     "output_type": "display_data"
    },
    {
     "data": {
      "text/plain": [
       "bool"
      ]
     },
     "metadata": {},
     "output_type": "display_data"
    },
    {
     "data": {
      "text/plain": [
       "False"
      ]
     },
     "metadata": {},
     "output_type": "display_data"
    }
   ],
   "source": [
    "isMan = True\n",
    "display(isMan)\n",
    "display(type(isMan))\n",
    "isMan = False\n",
    "display(isMan)"
   ]
  }
 ],
 "metadata": {
  "kernelspec": {
   "display_name": "Python 3",
   "language": "python",
   "name": "python3"
  },
  "language_info": {
   "codemirror_mode": {
    "name": "ipython",
    "version": 3
   },
   "file_extension": ".py",
   "mimetype": "text/x-python",
   "name": "python",
   "nbconvert_exporter": "python",
   "pygments_lexer": "ipython3",
   "version": "3.10.12"
  },
  "orig_nbformat": 4
 },
 "nbformat": 4,
 "nbformat_minor": 2
}
