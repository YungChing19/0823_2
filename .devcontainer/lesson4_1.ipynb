{
 "cells": [
  {
   "cell_type": "code",
   "execution_count": 3,
   "metadata": {},
   "outputs": [
    {
     "name": "stdout",
     "output_type": "stream",
     "text": [
      "True\n"
     ]
    },
    {
     "data": {
      "text/plain": [
       "True"
      ]
     },
     "metadata": {},
     "output_type": "display_data"
    },
    {
     "data": {
      "text/plain": [
       "False"
      ]
     },
     "metadata": {},
     "output_type": "display_data"
    }
   ],
   "source": [
    "#比較運算子\n",
    "x = 7\n",
    "# \"==\" :是否相等\n",
    "print(x == 7)\n",
    "display(x == 7)\n",
    "display(5 > x)"
   ]
  },
  {
   "cell_type": "code",
   "execution_count": null,
   "metadata": {},
   "outputs": [],
   "source": [
    "#強制上傳至github\n",
    "#終端機打：git push -- force"
   ]
  },
  {
   "cell_type": "code",
   "execution_count": 4,
   "metadata": {},
   "outputs": [
    {
     "name": "stdout",
     "output_type": "stream",
     "text": [
      "及格\n"
     ]
    }
   ],
   "source": [
    "scores = int(input(\"請輸入分數：\"))\n",
    "if scores < 60 :\n",
    "    print(\"不及格\")\n",
    "else :\n",
    "    print(\"及格\")"
   ]
  },
  {
   "cell_type": "code",
   "execution_count": 5,
   "metadata": {},
   "outputs": [
    {
     "name": "stdout",
     "output_type": "stream",
     "text": [
      "262\n",
      "262\n",
      "262\n"
     ]
    }
   ],
   "source": [
    "#學生總分為300\n",
    "#有些學生可以加分5%\n",
    "#如果加分超過300,就以300分為準\n",
    "\n",
    "scores = int(input(\"請輸入學生分數(最高300分):\"))\n",
    "is_add = input(\"學生是否符合加分條件？(y,n)\")\n",
    "if(is_add == \"y\"): #單項選擇\n",
    "    scores *= 1.05 #巢狀判斷\n",
    "    if scores > 300 :\n",
    "        scores = 300 #要執行這行須先滿足前面的if\n",
    "print(int(scores))\n",
    "print(round(scores))\n",
    "print(f'{scores:.0f}')\n"
   ]
  },
  {
   "cell_type": "code",
   "execution_count": 10,
   "metadata": {},
   "outputs": [
    {
     "name": "stdout",
     "output_type": "stream",
     "text": [
      "300\n",
      "300\n",
      "300\n",
      "程式錯誤\n"
     ]
    }
   ],
   "source": [
    "try:\n",
    "    scores = int(input(\"請輸入學生分數(最高300分):\"))\n",
    "except:\n",
    "    print(\"輸入錯誤\")\n",
    "else:\n",
    "    is_add = input(\"學生是否符合加分條件？(y,n)\")\n",
    "if(is_add == \"y\"): #單項選擇\n",
    "    scores *= 1.05 \n",
    "    if scores > 300 : #巢狀判斷\n",
    "        scores = 300 #要執行這行須先滿足前面的if\n",
    "print(int(scores))\n",
    "print(round(scores))\n",
    "print(f'{scores:.0f}')\n",
    "\n",
    "print(\"程式錯誤\")"
   ]
  },
  {
   "cell_type": "code",
   "execution_count": 11,
   "metadata": {},
   "outputs": [
    {
     "name": "stdout",
     "output_type": "stream",
     "text": [
      "及格\n"
     ]
    }
   ],
   "source": [
    "scores = 89\n",
    "if scores >= 60:\n",
    "    print(\"及格\")\n",
    "else:\n",
    "    print(\"不及格\")"
   ]
  },
  {
   "cell_type": "code",
   "execution_count": 20,
   "metadata": {},
   "outputs": [
    {
     "name": "stdout",
     "output_type": "stream",
     "text": [
      "小於60\n"
     ]
    }
   ],
   "source": [
    "#兩個條件使用巢狀判斷\n",
    "scores = 50\n",
    "if scores >= 60:\n",
    "    if scores <= 80:\n",
    "        print(\"60 ~ 80\")\n",
    "    else:\n",
    "        print(\"大於80\")\n",
    "else:\n",
    "    print(\"小於60\")"
   ]
  },
  {
   "cell_type": "code",
   "execution_count": 22,
   "metadata": {},
   "outputs": [
    {
     "name": "stdout",
     "output_type": "stream",
     "text": [
      "60~80\n"
     ]
    }
   ],
   "source": [
    "#兩個條件使用邏輯運算子\n",
    "\n",
    "scores = 75\n",
    "if scores >= 60 and scores <= 80:\n",
    "    print(\"60~80\")\n",
    "else:\n",
    "    if scores < 60:\n",
    "        print(\"小於60\")\n",
    "    else:\n",
    "        print(\"大於80\")"
   ]
  },
  {
   "cell_type": "code",
   "execution_count": 23,
   "metadata": {},
   "outputs": [
    {
     "name": "stdout",
     "output_type": "stream",
     "text": [
      "大於等於80\n"
     ]
    }
   ],
   "source": [
    "scores = 92\n",
    "if scores <= 60:\n",
    "    print(\"小於60\")\n",
    "\n",
    "if scores >= 80:\n",
    "    print(\"大於等於80\")"
   ]
  }
 ],
 "metadata": {
  "kernelspec": {
   "display_name": "Python 3",
   "language": "python",
   "name": "python3"
  },
  "language_info": {
   "codemirror_mode": {
    "name": "ipython",
    "version": 3
   },
   "file_extension": ".py",
   "mimetype": "text/x-python",
   "name": "python",
   "nbconvert_exporter": "python",
   "pygments_lexer": "ipython3",
   "version": "3.10.12"
  },
  "orig_nbformat": 4
 },
 "nbformat": 4,
 "nbformat_minor": 2
}
